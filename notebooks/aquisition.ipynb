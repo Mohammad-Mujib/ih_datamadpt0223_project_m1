{
 "cells": [
  {
   "cell_type": "code",
   "execution_count": 1,
   "id": "e6214e03",
   "metadata": {},
   "outputs": [],
   "source": [
    "#temples\n",
    "def acquisition_temple():\n",
    "    response = requests.get('https://datos.madrid.es/egob/catalogo/209434-0-templos-otros.json')\n",
    "    result_api = response.json()\n",
    "    return result_api\n",
    "    "
   ]
  },
  {
   "cell_type": "code",
   "execution_count": 3,
   "id": "f221c19c",
   "metadata": {},
   "outputs": [],
   "source": [
    "#bicimad\n",
    "def aquisition_bicimad():\n",
    "    conn = duckdb.connect('../data/bicimad.db',read_only=True)\n",
    "    my_sql = conn.sql('SELECT* FROM bicimad_stations')\n",
    "    return my_sql"
   ]
  }
 ],
 "metadata": {
  "kernelspec": {
   "display_name": "Python [conda env:m1_env]",
   "language": "python",
   "name": "conda-env-m1_env-py"
  },
  "language_info": {
   "codemirror_mode": {
    "name": "ipython",
    "version": 3
   },
   "file_extension": ".py",
   "mimetype": "text/x-python",
   "name": "python",
   "nbconvert_exporter": "python",
   "pygments_lexer": "ipython3",
   "version": "3.10.9"
  }
 },
 "nbformat": 4,
 "nbformat_minor": 5
}
